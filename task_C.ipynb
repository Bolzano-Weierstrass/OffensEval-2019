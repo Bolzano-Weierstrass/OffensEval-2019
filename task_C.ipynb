{
 "cells": [
  {
   "cell_type": "markdown",
   "metadata": {},
   "source": [
    "# Task C: NLP Cousework"
   ]
  },
  {
   "cell_type": "markdown",
   "metadata": {},
   "source": [
    "## Importations"
   ]
  },
  {
   "cell_type": "code",
   "execution_count": 1,
   "metadata": {
    "colab": {
     "autoexec": {
      "startup": false,
      "wait_interval": 0
     }
    },
    "colab_type": "code",
    "id": "feUJkkKjMoV4"
   },
   "outputs": [
    {
     "name": "stderr",
     "output_type": "stream",
     "text": [
      "C:\\Users\\Thomas\\Anaconda3\\lib\\site-packages\\h5py\\__init__.py:34: FutureWarning: Conversion of the second argument of issubdtype from `float` to `np.floating` is deprecated. In future, it will be treated as `np.float64 == np.dtype(float).type`.\n",
      "  from ._conv import register_converters as _register_converters\n",
      "Using TensorFlow backend.\n"
     ]
    }
   ],
   "source": [
    "# built-in\n",
    "import re\n",
    "import codecs\n",
    "import random\n",
    "from collections import defaultdict\n",
    "import sys\n",
    "import os\n",
    "\n",
    "# common libs\n",
    "import pandas as pd\n",
    "import numpy as np \n",
    "from tqdm import tqdm\n",
    "\n",
    "# plotting libs\n",
    "import matplotlib.pyplot as plt\n",
    "import seaborn as sns\n",
    "\n",
    "# nltk\n",
    "from nltk.tokenize import RegexpTokenizer\n",
    "from nltk.corpus import stopwords\n",
    "from nltk.stem.porter import PorterStemmer\n",
    "\n",
    "# keras\n",
    "from keras.preprocessing.text import Tokenizer\n",
    "from keras.preprocessing.sequence import pad_sequences\n",
    "from keras.utils.np_utils import to_categorical\n",
    "from keras.layers import Dense, Input, Flatten, Embedding, LSTM, GRU, Bidirectional\n",
    "from keras.models import Model\n",
    "from keras import optimizers, initializers\n",
    "from keras.callbacks import ModelCheckpoint\n",
    "from keras import backend as K\n",
    "from keras.engine.topology import Layer, InputSpec\n",
    "\n",
    "# torch\n",
    "import torch\n",
    "from torch.autograd import Variable\n",
    "import torch.nn as nn\n",
    "import torch.optim as optim\n",
    "import torch.nn.functional as F\n",
    "\n",
    "#sklearn\n",
    "from sklearn.metrics import classification_report\n",
    "from sklearn.feature_extraction.text import CountVectorizer\n",
    "from sklearn.ensemble import RandomForestClassifier\n",
    "from sklearn.model_selection import RandomizedSearchCV, GridSearchCV\n",
    "\n",
    "\n",
    "#bayes_opt\n",
    "from bayes_opt import BayesianOptimization\n",
    "\n",
    "\n",
    "# import EarlyStopping\n",
    "from pytorchtools import EarlyStopping"
   ]
  },
  {
   "cell_type": "code",
   "execution_count": 2,
   "metadata": {},
   "outputs": [],
   "source": [
    "sns.set_style(style='dark')\n",
    "%matplotlib inline"
   ]
  },
  {
   "cell_type": "markdown",
   "metadata": {
    "colab": {
     "autoexec": {
      "startup": false,
      "wait_interval": 0
     }
    },
    "colab_type": "code",
    "id": "IWTXM4EVJ0Vp"
   },
   "source": [
    "## Getting the data ready"
   ]
  },
  {
   "cell_type": "markdown",
   "metadata": {},
   "source": [
    "### Loading"
   ]
  },
  {
   "cell_type": "code",
   "execution_count": 3,
   "metadata": {
    "colab": {
     "autoexec": {
      "startup": false,
      "wait_interval": 0
     }
    },
    "colab_type": "code",
    "id": "xovVXTjFKLU8"
   },
   "outputs": [],
   "source": [
    "EMBEDDING_DIM = 100\n",
    "VALIDATION_SPLIT = 0.2"
   ]
  },
  {
   "cell_type": "code",
   "execution_count": 4,
   "metadata": {},
   "outputs": [],
   "source": [
    "data = pd.read_csv(\"training-v1/offenseval-training-v1.tsv\", delimiter='\\t', engine='c')\n",
    "data_aside = pd.read_csv(\"Test_C_Release/test_set_taskc.tsv\", delimiter='\\t', engine='c')\n",
    "data = data[data.subtask_a == 'OFF']\n",
    "data = data[data.subtask_b == 'TIN']"
   ]
  },
  {
   "cell_type": "code",
   "execution_count": 5,
   "metadata": {
    "colab": {
     "autoexec": {
      "startup": false,
      "wait_interval": 0
     },
     "base_uri": "https://localhost:8080/",
     "height": 68
    },
    "colab_type": "code",
    "executionInfo": {
     "elapsed": 1117,
     "status": "ok",
     "timestamp": 1530790268406,
     "user": {
      "displayName": "Akshat Maheshwari",
      "photoUrl": "//lh5.googleusercontent.com/-f-xJkriVoaI/AAAAAAAAAAI/AAAAAAAAAVQ/TLGa4qObGgQ/s50-c-k-no/photo.jpg",
      "userId": "114426356464940466000"
     },
     "user_tz": -330
    },
    "id": "G0fj58BfKOu5",
    "outputId": "a88cef11-1224-4d27-a2c2-e22a4f936eab"
   },
   "outputs": [
    {
     "name": "stdout",
     "output_type": "stream",
     "text": [
      "Shape of dataset  (3876, 5)\n",
      "Index(['id', 'tweet', 'subtask_a', 'subtask_b', 'subtask_c'], dtype='object')\n",
      "No. of unique classes 3\n"
     ]
    }
   ],
   "source": [
    "df = data.copy()\n",
    "df_aside = data_aside.copy()\n",
    "print('Shape of dataset ',df.shape)\n",
    "print(df.columns)\n",
    "print('No. of unique classes',len(set(df['subtask_c'])))"
   ]
  },
  {
   "cell_type": "markdown",
   "metadata": {},
   "source": [
    "### Labels to integers"
   ]
  },
  {
   "cell_type": "code",
   "execution_count": 6,
   "metadata": {
    "colab": {
     "autoexec": {
      "startup": false,
      "wait_interval": 0
     }
    },
    "colab_type": "code",
    "id": "iwPHBhWXKToO"
   },
   "outputs": [],
   "source": [
    "classes=sorted(set(df['subtask_c']))\n",
    "classes_to_id = {'GRP': [1,0,0], 'IND': [0,1,0], 'OTH': [0,0,1]}\n",
    "\n",
    "def fun(i):\n",
    "    return classes_to_id[i]\n",
    "\n",
    "df['subtask_c']=df['subtask_c'].apply(fun)"
   ]
  },
  {
   "cell_type": "markdown",
   "metadata": {},
   "source": [
    "### Cleaning the data"
   ]
  },
  {
   "cell_type": "code",
   "execution_count": 7,
   "metadata": {},
   "outputs": [
    {
     "name": "stdout",
     "output_type": "stream",
     "text": [
      "data set size : (3876, 5), test set size : (213, 2)\n"
     ]
    }
   ],
   "source": [
    "aside = np.array(df_aside.tweet)\n",
    "aside_length = len(aside)\n",
    "tweets = np.concatenate([np.array(df.tweet), aside], axis =0)\n",
    "\n",
    "regexp1 = r'@[A-Za-z0-9]+'\n",
    "regexp2 = r'https?://[A-Za-z0-9./]+'\n",
    "\n",
    "combined_regexp = r'|'.join((regexp1, regexp2)) #getting rid of @USER and potentiel URLs\n",
    "\n",
    "def low_stemmed_token_sentence(string, regexp = combined_regexp, SW = False):\n",
    "# this tokenizer just accepts alphabetic word (remove numeric)\n",
    "        \n",
    "    cleaned = re.sub(regexp, '', string)\n",
    "    tokenizer = RegexpTokenizer('[a-z]+') #splits the string into substrings we strip the # \n",
    "    stemmer = PorterStemmer() #basically it is suffix stripping\n",
    "    \n",
    "    low = cleaned.lower().replace('url', '')\n",
    "    tokens = tokenizer.tokenize(low)\n",
    "    if SW == True:\n",
    "        stopWords = set(stopwords.words('english')) #creates a set of words that will be ignored\n",
    "        filtered_tokens = []\n",
    "        for tok in tokens:\n",
    "            if tok not in stopWords:\n",
    "                filtered_tokens.append(tok)\n",
    "        tokens = filtered_tokens\n",
    "        \n",
    "    stemmed_tokens = [stemmer.stem(i) for i in tokens]\n",
    "    return ((stemmed_tokens))\n",
    "print(f\"data set size : {data.shape}, test set size : {data_aside.shape}\")"
   ]
  },
  {
   "cell_type": "code",
   "execution_count": 8,
   "metadata": {},
   "outputs": [
    {
     "name": "stdout",
     "output_type": "stream",
     "text": [
      "4089\n"
     ]
    },
    {
     "data": {
      "text/plain": [
       "[['go', 'home', 'you', 're', 'drunk', 'maga', 'trump'],\n",
       " ['liber', 'are', 'all', 'kookoo']]"
      ]
     },
     "execution_count": 8,
     "metadata": {},
     "output_type": "execute_result"
    }
   ],
   "source": [
    "clean_tweets = [low_stemmed_token_sentence(x, SW=False) for x in tweets]\n",
    "print(len(clean_tweets))\n",
    "clean_tweets[:2]"
   ]
  },
  {
   "cell_type": "markdown",
   "metadata": {},
   "source": [
    "### Word tokens to integrer tokens"
   ]
  },
  {
   "cell_type": "code",
   "execution_count": 9,
   "metadata": {},
   "outputs": [],
   "source": [
    "sent_lengths = [len(sent) for sent in clean_tweets]\n",
    "max_len = np.max(np.array(sent_lengths))\n",
    "MAX_SEQUENCE_LENGTH = max_len"
   ]
  },
  {
   "cell_type": "code",
   "execution_count": 10,
   "metadata": {},
   "outputs": [
    {
     "name": "stdout",
     "output_type": "stream",
     "text": [
      "Number of Unique Tokens 7453\n"
     ]
    }
   ],
   "source": [
    "tokenizer = Tokenizer(num_words=None)\n",
    "tokenizer.fit_on_texts(clean_tweets)\n",
    "sequences = tokenizer.texts_to_sequences(clean_tweets)\n",
    "sequences = pad_sequences(sequences, maxlen=MAX_SEQUENCE_LENGTH, padding = 'post')\n",
    "\n",
    "word_index = tokenizer.word_index\n",
    "\n",
    "print('Number of Unique Tokens',len(word_index))"
   ]
  },
  {
   "cell_type": "code",
   "execution_count": 11,
   "metadata": {},
   "outputs": [
    {
     "data": {
      "text/plain": [
       "array([[ 52, 355,   6,  89, 754,  54,  55,   0,   0,   0,   0,   0,   0,\n",
       "          0,   0,   0,   0,   0,   0,   0,   0,   0,   0,   0,   0,   0,\n",
       "          0,   0,   0,   0,   0,   0,   0,   0,   0,   0,   0,   0,   0,\n",
       "          0,   0,   0,   0,   0,   0,   0,   0,   0,   0,   0,   0,   0,\n",
       "          0,   0,   0,   0,   0,   0,   0,   0,   0,   0,   0]])"
      ]
     },
     "execution_count": 11,
     "metadata": {},
     "output_type": "execute_result"
    }
   ],
   "source": [
    "sequences[:1]"
   ]
  },
  {
   "cell_type": "markdown",
   "metadata": {},
   "source": [
    "### Back to dataframes"
   ]
  },
  {
   "cell_type": "code",
   "execution_count": 12,
   "metadata": {},
   "outputs": [
    {
     "data": {
      "text/html": [
       "<div>\n",
       "<style scoped>\n",
       "    .dataframe tbody tr th:only-of-type {\n",
       "        vertical-align: middle;\n",
       "    }\n",
       "\n",
       "    .dataframe tbody tr th {\n",
       "        vertical-align: top;\n",
       "    }\n",
       "\n",
       "    .dataframe thead th {\n",
       "        text-align: right;\n",
       "    }\n",
       "</style>\n",
       "<table border=\"1\" class=\"dataframe\">\n",
       "  <thead>\n",
       "    <tr style=\"text-align: right;\">\n",
       "      <th></th>\n",
       "      <th>id</th>\n",
       "      <th>tweet</th>\n",
       "      <th>subtask_a</th>\n",
       "      <th>subtask_b</th>\n",
       "      <th>subtask_c</th>\n",
       "    </tr>\n",
       "  </thead>\n",
       "  <tbody>\n",
       "    <tr>\n",
       "      <th>1</th>\n",
       "      <td>90194</td>\n",
       "      <td>@USER @USER Go home you’re drunk!!! @USER #MAG...</td>\n",
       "      <td>OFF</td>\n",
       "      <td>TIN</td>\n",
       "      <td>IND</td>\n",
       "    </tr>\n",
       "    <tr>\n",
       "      <th>5</th>\n",
       "      <td>97670</td>\n",
       "      <td>@USER Liberals are all Kookoo !!!</td>\n",
       "      <td>OFF</td>\n",
       "      <td>TIN</td>\n",
       "      <td>OTH</td>\n",
       "    </tr>\n",
       "  </tbody>\n",
       "</table>\n",
       "</div>"
      ],
      "text/plain": [
       "      id                                              tweet subtask_a  \\\n",
       "1  90194  @USER @USER Go home you’re drunk!!! @USER #MAG...       OFF   \n",
       "5  97670                  @USER Liberals are all Kookoo !!!       OFF   \n",
       "\n",
       "  subtask_b subtask_c  \n",
       "1       TIN       IND  \n",
       "5       TIN       OTH  "
      ]
     },
     "execution_count": 12,
     "metadata": {},
     "output_type": "execute_result"
    }
   ],
   "source": [
    "data.head(2)"
   ]
  },
  {
   "cell_type": "code",
   "execution_count": 13,
   "metadata": {},
   "outputs": [
    {
     "data": {
      "text/html": [
       "<div>\n",
       "<style scoped>\n",
       "    .dataframe tbody tr th:only-of-type {\n",
       "        vertical-align: middle;\n",
       "    }\n",
       "\n",
       "    .dataframe tbody tr th {\n",
       "        vertical-align: top;\n",
       "    }\n",
       "\n",
       "    .dataframe thead th {\n",
       "        text-align: right;\n",
       "    }\n",
       "</style>\n",
       "<table border=\"1\" class=\"dataframe\">\n",
       "  <thead>\n",
       "    <tr style=\"text-align: right;\">\n",
       "      <th></th>\n",
       "      <th>id</th>\n",
       "      <th>tweet</th>\n",
       "      <th>subtask_a</th>\n",
       "      <th>subtask_b</th>\n",
       "      <th>subtask_c</th>\n",
       "    </tr>\n",
       "  </thead>\n",
       "  <tbody>\n",
       "    <tr>\n",
       "      <th>1</th>\n",
       "      <td>90194</td>\n",
       "      <td>[52, 355, 6, 89, 754, 54, 55, 0, 0, 0, 0, 0, 0...</td>\n",
       "      <td>OFF</td>\n",
       "      <td>TIN</td>\n",
       "      <td>[0, 1, 0]</td>\n",
       "    </tr>\n",
       "    <tr>\n",
       "      <th>5</th>\n",
       "      <td>97670</td>\n",
       "      <td>[19, 8, 27, 3682, 0, 0, 0, 0, 0, 0, 0, 0, 0, 0...</td>\n",
       "      <td>OFF</td>\n",
       "      <td>TIN</td>\n",
       "      <td>[0, 0, 1]</td>\n",
       "    </tr>\n",
       "  </tbody>\n",
       "</table>\n",
       "</div>"
      ],
      "text/plain": [
       "      id                                              tweet subtask_a  \\\n",
       "1  90194  [52, 355, 6, 89, 754, 54, 55, 0, 0, 0, 0, 0, 0...       OFF   \n",
       "5  97670  [19, 8, 27, 3682, 0, 0, 0, 0, 0, 0, 0, 0, 0, 0...       OFF   \n",
       "\n",
       "  subtask_b  subtask_c  \n",
       "1       TIN  [0, 1, 0]  \n",
       "5       TIN  [0, 0, 1]  "
      ]
     },
     "execution_count": 13,
     "metadata": {},
     "output_type": "execute_result"
    }
   ],
   "source": [
    "labels = np.array(df['subtask_c'])\n",
    "data['tweet'] = list(sequences[:-aside_length])\n",
    "data_aside['tweet'] = list(sequences[-aside_length:])\n",
    "data['subtask_c'] = labels\n",
    "data.head(2)"
   ]
  },
  {
   "cell_type": "markdown",
   "metadata": {},
   "source": [
    "### Train, Validation & Test sets"
   ]
  },
  {
   "cell_type": "code",
   "execution_count": 14,
   "metadata": {
    "colab": {
     "autoexec": {
      "startup": false,
      "wait_interval": 0
     },
     "base_uri": "https://localhost:8080/",
     "height": 51
    },
    "colab_type": "code",
    "executionInfo": {
     "elapsed": 897,
     "status": "ok",
     "timestamp": 1530790273080,
     "user": {
      "displayName": "Akshat Maheshwari",
      "photoUrl": "//lh5.googleusercontent.com/-f-xJkriVoaI/AAAAAAAAAAI/AAAAAAAAAVQ/TLGa4qObGgQ/s50-c-k-no/photo.jpg",
      "userId": "114426356464940466000"
     },
     "user_tz": -330
    },
    "id": "RnjM0mCxKyVi",
    "outputId": "e4f25d93-f124-406c-daf6-cfbc7127988b"
   },
   "outputs": [],
   "source": [
    "nb_l = data.shape[1]\n",
    "\n",
    "train, validation, test = data[0:3000], \\\n",
    "        data[3000:3500], data[3500:]\n",
    "    \n",
    "    \n",
    "x_train = np.array(list(train.tweet))\n",
    "y_train = np.array(list(train.subtask_c))\n",
    "x_val = np.array(list(validation.tweet))\n",
    "y_val = np.array(list(validation.subtask_c))\n",
    "x_test = np.array(list(test.tweet))\n",
    "y_test = np.array(list(test.subtask_c))\n",
    "\n",
    "x_aside = np.array(list(data_aside.tweet))"
   ]
  },
  {
   "cell_type": "markdown",
   "metadata": {},
   "source": [
    "### Importation of Glove"
   ]
  },
  {
   "cell_type": "code",
   "execution_count": 15,
   "metadata": {
    "colab": {
     "autoexec": {
      "startup": false,
      "wait_interval": 0
     },
     "base_uri": "https://localhost:8080/",
     "height": 34
    },
    "colab_type": "code",
    "executionInfo": {
     "elapsed": 13830,
     "status": "ok",
     "timestamp": 1530790287000,
     "user": {
      "displayName": "Akshat Maheshwari",
      "photoUrl": "//lh5.googleusercontent.com/-f-xJkriVoaI/AAAAAAAAAAI/AAAAAAAAAVQ/TLGa4qObGgQ/s50-c-k-no/photo.jpg",
      "userId": "114426356464940466000"
     },
     "user_tz": -330
    },
    "id": "c0aypSbJK_yN",
    "outputId": "dfccfa98-1a77-4dc2-fa95-c5c9048fc2a9"
   },
   "outputs": [
    {
     "name": "stdout",
     "output_type": "stream",
     "text": [
      "Total 400000 word vectors in Glove 6B 100d.\n"
     ]
    }
   ],
   "source": [
    "embeddings_index = {}\n",
    "f = open('./glove/glove.6B/glove.6B.100d.txt',encoding='utf8')\n",
    "for line in f:\n",
    "    values = line.split()\n",
    "    word = values[0]\n",
    "    coefs = np.asarray(values[1:], dtype='float32')\n",
    "    embeddings_index[word] = coefs\n",
    "f.close()\n",
    "\n",
    "print('Total %s word vectors in Glove 6B 100d.' % len(embeddings_index))"
   ]
  },
  {
   "cell_type": "code",
   "execution_count": 16,
   "metadata": {
    "colab": {
     "autoexec": {
      "startup": false,
      "wait_interval": 0
     }
    },
    "colab_type": "code",
    "id": "HQIY5wTZLDyT"
   },
   "outputs": [],
   "source": [
    "embedding_matrix = np.random.random((len(word_index) + 1, EMBEDDING_DIM))\n",
    "for word, i in word_index.items():\n",
    "    embedding_vector = embeddings_index.get(word)\n",
    "    if embedding_vector is not None:\n",
    "        # words not found in embedding index will be all-zeros.\n",
    "        embedding_matrix[i] = embedding_vector"
   ]
  },
  {
   "cell_type": "code",
   "execution_count": 17,
   "metadata": {
    "colab": {
     "autoexec": {
      "startup": false,
      "wait_interval": 0
     }
    },
    "colab_type": "code",
    "id": "xKuWSVHcLVDM"
   },
   "outputs": [],
   "source": [
    "embedding_layer = Embedding(len(word_index) + 1,\n",
    "                            EMBEDDING_DIM,\n",
    "                            weights=[embedding_matrix],\n",
    "                            input_length=MAX_SEQUENCE_LENGTH,\n",
    "                            trainable=True)"
   ]
  },
  {
   "cell_type": "code",
   "execution_count": 18,
   "metadata": {
    "colab": {
     "autoexec": {
      "startup": false,
      "wait_interval": 0
     },
     "base_uri": "https://localhost:8080/",
     "height": 289
    },
    "colab_type": "code",
    "executionInfo": {
     "elapsed": 11390,
     "status": "ok",
     "timestamp": 1530790300647,
     "user": {
      "displayName": "Akshat Maheshwari",
      "photoUrl": "//lh5.googleusercontent.com/-f-xJkriVoaI/AAAAAAAAAAI/AAAAAAAAAVQ/TLGa4qObGgQ/s50-c-k-no/photo.jpg",
      "userId": "114426356464940466000"
     },
     "user_tz": -330
    },
    "id": "eExWnv0ALYaG",
    "outputId": "b1c4b12e-3fbf-4c85-e67b-faab3ea88274"
   },
   "outputs": [
    {
     "name": "stdout",
     "output_type": "stream",
     "text": [
      "Bidirectional LSTM\n",
      "_________________________________________________________________\n",
      "Layer (type)                 Output Shape              Param #   \n",
      "=================================================================\n",
      "input_1 (InputLayer)         (None, 63)                0         \n",
      "_________________________________________________________________\n",
      "embedding_1 (Embedding)      (None, 63, 100)           745400    \n",
      "_________________________________________________________________\n",
      "bidirectional_1 (Bidirection (None, 50)                25200     \n",
      "_________________________________________________________________\n",
      "dense_1 (Dense)              (None, 3)                 153       \n",
      "=================================================================\n",
      "Total params: 770,753\n",
      "Trainable params: 770,753\n",
      "Non-trainable params: 0\n",
      "_________________________________________________________________\n"
     ]
    }
   ],
   "source": [
    "sequence_input = Input(shape=(MAX_SEQUENCE_LENGTH,), dtype='int32')\n",
    "embedded_sequences = embedding_layer(sequence_input)\n",
    "l_lstm = Bidirectional(LSTM(25, activation = 'relu'))(embedded_sequences)\n",
    "preds = Dense(len(classes), activation='softmax')(l_lstm)\n",
    "model = Model(sequence_input, preds)\n",
    "optim = optimizers.Adam(lr = 0.0010, beta_1=0.9, beta_2=0.999, epsilon=None, decay=0.003) #lr = 0.0001, wd = 0.001\n",
    "model.compile(loss='categorical_crossentropy',\n",
    "              optimizer=optim,\n",
    "              metrics=['acc'])\n",
    "\n",
    "print(\"Bidirectional LSTM\")\n",
    "model.summary()"
   ]
  },
  {
   "cell_type": "code",
   "execution_count": 19,
   "metadata": {
    "colab": {
     "autoexec": {
      "startup": false,
      "wait_interval": 0
     },
     "base_uri": "https://localhost:8080/",
     "height": 1074
    },
    "colab_type": "code",
    "executionInfo": {
     "elapsed": 1702650,
     "status": "ok",
     "timestamp": 1530792237299,
     "user": {
      "displayName": "Akshat Maheshwari",
      "photoUrl": "//lh5.googleusercontent.com/-f-xJkriVoaI/AAAAAAAAAAI/AAAAAAAAAVQ/TLGa4qObGgQ/s50-c-k-no/photo.jpg",
      "userId": "114426356464940466000"
     },
     "user_tz": -330
    },
    "id": "S4xfBNtKLdD2",
    "outputId": "5a3abcce-be20-4c71-c989-5ebc191f064d",
    "scrolled": false
   },
   "outputs": [
    {
     "name": "stdout",
     "output_type": "stream",
     "text": [
      "WARNING:tensorflow:Variable *= will be deprecated. Use variable.assign_mul if you want assignment to the variable value or 'x = x * y' if you want a new python Tensor object.\n",
      "Train on 3000 samples, validate on 500 samples\n",
      "Epoch 1/25\n",
      " - 100s - loss: 0.8244 - acc: 0.6447 - val_loss: 0.8259 - val_acc: 0.6340\n",
      "\n",
      "Epoch 00001: val_acc improved from -inf to 0.63400, saving model to model_rnn.hdf5\n",
      "Epoch 2/25\n",
      " - 102s - loss: 0.7104 - acc: 0.7123 - val_loss: 0.8066 - val_acc: 0.6540\n",
      "\n",
      "Epoch 00002: val_acc improved from 0.63400 to 0.65400, saving model to model_rnn.hdf5\n",
      "Epoch 3/25\n",
      " - 98s - loss: 0.6702 - acc: 0.7300 - val_loss: 0.8028 - val_acc: 0.6580\n",
      "\n",
      "Epoch 00003: val_acc improved from 0.65400 to 0.65800, saving model to model_rnn.hdf5\n",
      "Epoch 4/25\n",
      " - 96s - loss: 0.6407 - acc: 0.7417 - val_loss: 0.8199 - val_acc: 0.6540\n",
      "\n",
      "Epoch 00004: val_acc did not improve\n",
      "Epoch 5/25\n",
      " - 96s - loss: 0.6206 - acc: 0.7447 - val_loss: 0.8086 - val_acc: 0.6700\n",
      "\n",
      "Epoch 00005: val_acc improved from 0.65800 to 0.67000, saving model to model_rnn.hdf5\n",
      "Epoch 6/25\n",
      " - 87s - loss: 0.6069 - acc: 0.7553 - val_loss: 0.8090 - val_acc: 0.6680\n",
      "\n",
      "Epoch 00006: val_acc did not improve\n",
      "Epoch 7/25\n",
      " - 97s - loss: 0.5923 - acc: 0.7607 - val_loss: 0.8173 - val_acc: 0.6660\n",
      "\n",
      "Epoch 00007: val_acc did not improve\n",
      "Epoch 8/25\n",
      " - 103s - loss: 0.5798 - acc: 0.7630 - val_loss: 0.8256 - val_acc: 0.6640\n",
      "\n",
      "Epoch 00008: val_acc did not improve\n",
      "Epoch 9/25\n",
      " - 102s - loss: 0.5692 - acc: 0.7713 - val_loss: 0.8237 - val_acc: 0.6640\n",
      "\n",
      "Epoch 00009: val_acc did not improve\n",
      "Epoch 10/25\n",
      " - 90s - loss: 0.5601 - acc: 0.7727 - val_loss: 0.8351 - val_acc: 0.6600\n",
      "\n",
      "Epoch 00010: val_acc did not improve\n",
      "Epoch 11/25\n",
      " - 96s - loss: 0.5505 - acc: 0.7763 - val_loss: 0.8327 - val_acc: 0.6620\n",
      "\n",
      "Epoch 00011: val_acc did not improve\n",
      "Epoch 12/25\n",
      " - 99s - loss: 0.5420 - acc: 0.7807 - val_loss: 0.8502 - val_acc: 0.6620\n",
      "\n",
      "Epoch 00012: val_acc did not improve\n",
      "Epoch 13/25\n",
      " - 94s - loss: 0.5352 - acc: 0.7837 - val_loss: 0.8461 - val_acc: 0.6600\n",
      "\n",
      "Epoch 00013: val_acc did not improve\n",
      "Epoch 14/25\n",
      " - 88s - loss: 0.5266 - acc: 0.7857 - val_loss: 0.8470 - val_acc: 0.6640\n",
      "\n",
      "Epoch 00014: val_acc did not improve\n",
      "Epoch 15/25\n",
      " - 83s - loss: 0.5204 - acc: 0.7883 - val_loss: 0.8519 - val_acc: 0.6640\n",
      "\n",
      "Epoch 00015: val_acc did not improve\n",
      "Epoch 16/25\n",
      " - 85s - loss: 0.5136 - acc: 0.7907 - val_loss: 0.8598 - val_acc: 0.6600\n",
      "\n",
      "Epoch 00016: val_acc did not improve\n",
      "Epoch 17/25\n",
      " - 84s - loss: 0.5074 - acc: 0.7930 - val_loss: 0.8650 - val_acc: 0.6620\n",
      "\n",
      "Epoch 00017: val_acc did not improve\n",
      "Epoch 18/25\n",
      " - 84s - loss: 0.5013 - acc: 0.7987 - val_loss: 0.8649 - val_acc: 0.6640\n",
      "\n",
      "Epoch 00018: val_acc did not improve\n",
      "Epoch 19/25\n",
      " - 78s - loss: 0.4955 - acc: 0.8017 - val_loss: 0.8744 - val_acc: 0.6660\n",
      "\n",
      "Epoch 00019: val_acc did not improve\n",
      "Epoch 20/25\n",
      " - 77s - loss: 0.4906 - acc: 0.8003 - val_loss: 0.8792 - val_acc: 0.6700\n",
      "\n",
      "Epoch 00020: val_acc did not improve\n",
      "Epoch 21/25\n",
      " - 75s - loss: 0.4852 - acc: 0.8080 - val_loss: 0.8781 - val_acc: 0.6700\n",
      "\n",
      "Epoch 00021: val_acc did not improve\n",
      "Epoch 22/25\n",
      " - 97s - loss: 0.4796 - acc: 0.8077 - val_loss: 0.8781 - val_acc: 0.6720\n",
      "\n",
      "Epoch 00022: val_acc improved from 0.67000 to 0.67200, saving model to model_rnn.hdf5\n",
      "Epoch 23/25\n",
      " - 98s - loss: 0.4757 - acc: 0.8090 - val_loss: 0.8876 - val_acc: 0.6660\n",
      "\n",
      "Epoch 00023: val_acc did not improve\n",
      "Epoch 24/25\n",
      " - 95s - loss: 0.4715 - acc: 0.8113 - val_loss: 0.8928 - val_acc: 0.6620\n",
      "\n",
      "Epoch 00024: val_acc did not improve\n",
      "Epoch 25/25\n",
      " - 101s - loss: 0.4673 - acc: 0.8123 - val_loss: 0.8941 - val_acc: 0.6660\n",
      "\n",
      "Epoch 00025: val_acc did not improve\n"
     ]
    }
   ],
   "source": [
    "cp=ModelCheckpoint('model_rnn.hdf5',monitor='val_acc',verbose=1,save_best_only=True)\n",
    "history=model.fit(x_train, y_train, validation_data=(x_val, y_val)\\\n",
    "                  ,epochs=25, batch_size=2,callbacks=[cp], verbose=2)"
   ]
  },
  {
   "cell_type": "markdown",
   "metadata": {},
   "source": [
    "## On test set"
   ]
  },
  {
   "cell_type": "code",
   "execution_count": 65,
   "metadata": {},
   "outputs": [],
   "source": [
    "id_to_classes = { 0: 'GRP', 1: 'IND',2: 'OTH'}\n",
    "\n",
    "predictions = np.argmax(model.predict(x_aside), axis =1)\n",
    "p = [id_to_classes[x] for x in predictions]"
   ]
  },
  {
   "cell_type": "code",
   "execution_count": 68,
   "metadata": {
    "scrolled": false
   },
   "outputs": [
    {
     "data": {
      "text/html": [
       "<div>\n",
       "<style scoped>\n",
       "    .dataframe tbody tr th:only-of-type {\n",
       "        vertical-align: middle;\n",
       "    }\n",
       "\n",
       "    .dataframe tbody tr th {\n",
       "        vertical-align: top;\n",
       "    }\n",
       "\n",
       "    .dataframe thead th {\n",
       "        text-align: right;\n",
       "    }\n",
       "</style>\n",
       "<table border=\"1\" class=\"dataframe\">\n",
       "  <thead>\n",
       "    <tr style=\"text-align: right;\">\n",
       "      <th></th>\n",
       "      <th>id</th>\n",
       "      <th>tweet</th>\n",
       "    </tr>\n",
       "  </thead>\n",
       "  <tbody>\n",
       "    <tr>\n",
       "      <th>0</th>\n",
       "      <td>15923</td>\n",
       "      <td>GRP</td>\n",
       "    </tr>\n",
       "    <tr>\n",
       "      <th>1</th>\n",
       "      <td>60133</td>\n",
       "      <td>GRP</td>\n",
       "    </tr>\n",
       "    <tr>\n",
       "      <th>2</th>\n",
       "      <td>83681</td>\n",
       "      <td>IND</td>\n",
       "    </tr>\n",
       "    <tr>\n",
       "      <th>3</th>\n",
       "      <td>65507</td>\n",
       "      <td>IND</td>\n",
       "    </tr>\n",
       "    <tr>\n",
       "      <th>4</th>\n",
       "      <td>34263</td>\n",
       "      <td>IND</td>\n",
       "    </tr>\n",
       "  </tbody>\n",
       "</table>\n",
       "</div>"
      ],
      "text/plain": [
       "      id tweet\n",
       "0  15923   GRP\n",
       "1  60133   GRP\n",
       "2  83681   IND\n",
       "3  65507   IND\n",
       "4  34263   IND"
      ]
     },
     "execution_count": 68,
     "metadata": {},
     "output_type": "execute_result"
    }
   ],
   "source": [
    "data_aside.tweet = p\n",
    "data_aside.head(5)"
   ]
  },
  {
   "cell_type": "code",
   "execution_count": 73,
   "metadata": {},
   "outputs": [
    {
     "data": {
      "text/html": [
       "<div>\n",
       "<style scoped>\n",
       "    .dataframe tbody tr th:only-of-type {\n",
       "        vertical-align: middle;\n",
       "    }\n",
       "\n",
       "    .dataframe tbody tr th {\n",
       "        vertical-align: top;\n",
       "    }\n",
       "\n",
       "    .dataframe thead th {\n",
       "        text-align: right;\n",
       "    }\n",
       "</style>\n",
       "<table border=\"1\" class=\"dataframe\">\n",
       "  <thead>\n",
       "    <tr style=\"text-align: right;\">\n",
       "      <th></th>\n",
       "      <th>tweet</th>\n",
       "    </tr>\n",
       "    <tr>\n",
       "      <th>id</th>\n",
       "      <th></th>\n",
       "    </tr>\n",
       "  </thead>\n",
       "  <tbody>\n",
       "    <tr>\n",
       "      <th>15923</th>\n",
       "      <td>GRP</td>\n",
       "    </tr>\n",
       "    <tr>\n",
       "      <th>60133</th>\n",
       "      <td>GRP</td>\n",
       "    </tr>\n",
       "    <tr>\n",
       "      <th>83681</th>\n",
       "      <td>IND</td>\n",
       "    </tr>\n",
       "    <tr>\n",
       "      <th>65507</th>\n",
       "      <td>IND</td>\n",
       "    </tr>\n",
       "    <tr>\n",
       "      <th>34263</th>\n",
       "      <td>IND</td>\n",
       "    </tr>\n",
       "  </tbody>\n",
       "</table>\n",
       "</div>"
      ],
      "text/plain": [
       "      tweet\n",
       "id         \n",
       "15923   GRP\n",
       "60133   GRP\n",
       "83681   IND\n",
       "65507   IND\n",
       "34263   IND"
      ]
     },
     "execution_count": 73,
     "metadata": {},
     "output_type": "execute_result"
    }
   ],
   "source": [
    "data_aside.index = data_aside.id\n",
    "data_aside.drop(columns=['id'], inplace = True)\n",
    "data_aside.to_csv('test_1_c.csv',sep=',', header = False)\n",
    "data_aside[:5]"
   ]
  },
  {
   "cell_type": "code",
   "execution_count": 20,
   "metadata": {
    "colab": {
     "autoexec": {
      "startup": false,
      "wait_interval": 0
     },
     "base_uri": "https://localhost:8080/",
     "height": 302
    },
    "colab_type": "code",
    "executionInfo": {
     "elapsed": 1410,
     "status": "ok",
     "timestamp": 1530792305211,
     "user": {
      "displayName": "Akshat Maheshwari",
      "photoUrl": "//lh5.googleusercontent.com/-f-xJkriVoaI/AAAAAAAAAAI/AAAAAAAAAVQ/TLGa4qObGgQ/s50-c-k-no/photo.jpg",
      "userId": "114426356464940466000"
     },
     "user_tz": -330
    },
    "id": "qM-5003zLm4R",
    "outputId": "253775e8-4782-4df4-8113-061d06deabfa"
   },
   "outputs": [
    {
     "data": {
      "image/png": "[encoded data removed]",
      "text/plain": [
       "<Figure size 432x288 with 1 Axes>"
      ]
     },
     "metadata": {},
     "output_type": "display_data"
    }
   ],
   "source": [
    "fig1 = plt.figure()\n",
    "plt.plot(history.history['loss'],'r',linewidth=1.0)\n",
    "plt.plot(history.history['val_loss'],'b',linewidth=1.0)\n",
    "plt.legend(['Training loss', 'Validation Loss'],fontsize=12)\n",
    "plt.xlabel('Epochs ',fontsize=16)\n",
    "plt.ylabel('Loss',fontsize=16)\n",
    "plt.title('Loss Curves :RNN',fontsize=16)\n",
    "fig1.savefig('loss_rnn.png')\n",
    "plt.grid()\n",
    "plt.show()"
   ]
  },
  {
   "cell_type": "code",
   "execution_count": 21,
   "metadata": {
    "colab": {
     "autoexec": {
      "startup": false,
      "wait_interval": 0
     },
     "base_uri": "https://localhost:8080/",
     "height": 302
    },
    "colab_type": "code",
    "executionInfo": {
     "elapsed": 1471,
     "status": "ok",
     "timestamp": 1530792327305,
     "user": {
      "displayName": "Akshat Maheshwari",
      "photoUrl": "//lh5.googleusercontent.com/-f-xJkriVoaI/AAAAAAAAAAI/AAAAAAAAAVQ/TLGa4qObGgQ/s50-c-k-no/photo.jpg",
      "userId": "114426356464940466000"
     },
     "user_tz": -330
    },
    "id": "jlOpvtLtVNx5",
    "outputId": "0f68496c-d7d1-4a6f-d1b5-9fcefc3fb11f"
   },
   "outputs": [
    {
     "data": {
      "image/png": "[encoded data removed]",
      "text/plain": [
       "<Figure size 432x288 with 1 Axes>"
      ]
     },
     "metadata": {},
     "output_type": "display_data"
    }
   ],
   "source": [
    "fig2=plt.figure()\n",
    "plt.plot(history.history['acc'],'r',linewidth=1.0)\n",
    "plt.plot(history.history['val_acc'],'b',linewidth=1.0)\n",
    "plt.legend(['Training Accuracy', 'Validation Accuracy'],fontsize=12)\n",
    "plt.xlabel('Epochs ',fontsize=16)\n",
    "plt.ylabel('Accuracy',fontsize=16)\n",
    "plt.title('Accuracy Curves : RNN',fontsize=16)\n",
    "fig2.savefig('accuracy_rnn.png')\n",
    "plt.show()"
   ]
  },
  {
   "cell_type": "code",
   "execution_count": 22,
   "metadata": {},
   "outputs": [],
   "source": [
    "from keras.utils.vis_utils import plot_model"
   ]
  },
  {
   "cell_type": "code",
   "execution_count": 23,
   "metadata": {
    "colab": {
     "autoexec": {
      "startup": false,
      "wait_interval": 0
     }
    },
    "colab_type": "code",
    "id": "VSLWHsVmkr-8"
   },
   "outputs": [],
   "source": [
    "plot_model(model, to_file='rnn_model.png', show_shapes=True, show_layer_names=True)"
   ]
  },
  {
   "cell_type": "code",
   "execution_count": 24,
   "metadata": {
    "colab": {
     "autoexec": {
      "startup": false,
      "wait_interval": 0
     },
     "base_uri": "https://localhost:8080/",
     "height": 422
    },
    "colab_type": "code",
    "executionInfo": {
     "elapsed": 1204,
     "status": "ok",
     "timestamp": 1530797392167,
     "user": {
      "displayName": "Akshat Maheshwari",
      "photoUrl": "//lh5.googleusercontent.com/-f-xJkriVoaI/AAAAAAAAAAI/AAAAAAAAAVQ/TLGa4qObGgQ/s50-c-k-no/photo.jpg",
      "userId": "114426356464940466000"
     },
     "user_tz": -330
    },
    "id": "22B4674Rkwko",
    "outputId": "60c9f2c1-1390-425a-8451-f68c4655fde0"
   },
   "outputs": [
    {
     "data": {
      "image/png": "[encoded data removed]",
      "text/plain": [
       "<PIL.PngImagePlugin.PngImageFile image mode=RGBA size=583x405 at 0x1E5C52E8B70>"
      ]
     },
     "metadata": {},
     "output_type": "display_data"
    }
   ],
   "source": [
    "from PIL import Image\n",
    "display(Image.open('rnn_model.png'))"
   ]
  },
  {
   "cell_type": "code",
   "execution_count": null,
   "metadata": {
    "colab": {
     "autoexec": {
      "startup": false,
      "wait_interval": 0
     }
    },
    "colab_type": "code",
    "id": "zdU_K2hMomOJ"
   },
   "outputs": [],
   "source": []
  }
 ],
 "metadata": {
  "colab": {
   "default_view": {},
   "name": "RNN.ipynb",
   "provenance": [],
   "version": "0.3.2",
   "views": {}
  },
  "kernelspec": {
   "display_name": "Python 3",
   "language": "python",
   "name": "python3"
  },
  "language_info": {
   "codemirror_mode": {
    "name": "ipython",
    "version": 3
   },
   "file_extension": ".py",
   "mimetype": "text/x-python",
   "name": "python",
   "nbconvert_exporter": "python",
   "pygments_lexer": "ipython3",
   "version": "3.6.2"
  }
 },
 "nbformat": 4,
 "nbformat_minor": 1
}
